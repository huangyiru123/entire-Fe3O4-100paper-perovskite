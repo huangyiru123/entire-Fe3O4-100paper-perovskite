{
 "cells": [
  {
   "cell_type": "code",
   "execution_count": 2,
   "id": "3aecbffa-5e14-4f76-b0ae-8b88d302355e",
   "metadata": {},
   "outputs": [],
   "source": [
    "import logging\n",
    "import gensim\n",
    "from gensim.models import word2vec, KeyedVectors\n",
    "import pandas as pd\n",
    "import nltk\n",
    "import seaborn as sns\n",
    "from sklearn.decomposition import PCA\n",
    "import pkuseg\n",
    "import numpy as np\n",
    "from nltk.tokenize import MWETokenizer\n",
    "import itertools\n",
    "from gensim.models import KeyedVectors\n",
    "from gensim.models import Word2Vec\n",
    "from gensim.models.word2vec import LineSentence\n",
    "from sklearn.manifold import TSNE"
   ]
  },
  {
   "cell_type": "code",
   "execution_count": 61,
   "id": "129cefcf-a4c7-4da1-a7cb-20d6004191cb",
   "metadata": {},
   "outputs": [],
   "source": [
    "stopwords = [line.strip() for line in open('stop_words.txt', encoding='UTF-8').readlines()] #加载自定义停止词\n",
    "sentence=str()\n",
    "with open('entire-100-perovskite.txt', encoding='utf-8') as f:\n",
    "    document = f.read()\n",
    "    # document_cut = jieba.cut(document)\n",
    "    tokenizer = MWETokenizer([('melting', 'point'),('tolerance','factor'),('octahedral','factor'),('atomic','mass'),('specific','heat'),('formation','energy')], separator = '_')\n",
    "    seg = pkuseg.pkuseg(user_dict = \"userdict2.txt\")\n",
    "    text=tokenizer.tokenize(nltk.word_tokenize(document))\n",
    "    result = ' '.join(text)\n",
    "    for word in result:\n",
    "        if word not in stopwords:\n",
    "            if word != \"\\t\":\n",
    "                sentence += word\n",
    "    with open('result.txt', 'w',encoding=\"utf-8\") as f2:\n",
    "        f2.write(sentence)\n",
    "#\n",
    "sentences = word2vec.LineSentence('result.txt') #正式训练前的格式化"
   ]
  },
  {
   "cell_type": "code",
   "execution_count": 67,
   "id": "42ef8fb6-d91c-42cc-bf1f-ca1f7dc7a2d4",
   "metadata": {},
   "outputs": [],
   "source": [
    "model = word2vec.Word2Vec(sentences, vector_size=200, window=10,sg=1,sample=1e-3,epochs=5)\n",
    "model.wv.save_word2vec_format(\"entire-100-perovskite-model.txt\")\n",
    "model = KeyedVectors.load_word2vec_format('entire-100-perovskite-model.txt')\n"
   ]
  },
  {
   "cell_type": "code",
   "execution_count": 68,
   "id": "ef136552-4294-47b0-a114-4fdd5c92755e",
   "metadata": {},
   "outputs": [],
   "source": [
    "# 获取所有词的词向量\n",
    "word_vectors = model.vectors"
   ]
  },
  {
   "cell_type": "code",
   "execution_count": 69,
   "id": "fca42af2-ec98-44dc-a8d8-bb7c331d544b",
   "metadata": {},
   "outputs": [],
   "source": [
    "tsne = TSNE(n_components=2, random_state=42)\n",
    "word_vectors_tsne = tsne.fit_transform(word_vectors)\n",
    "# word_vectors_tsne = tsne.fit_transform(np.array(list(word_vectors.values())))"
   ]
  },
  {
   "cell_type": "code",
   "execution_count": 75,
   "id": "59dce5c1-6641-4bdc-be50-f1f34a3aff04",
   "metadata": {},
   "outputs": [
    {
     "name": "stdout",
     "output_type": "stream",
     "text": [
      "'SnO2' 对应的二维向量: [33.048595 -9.114937]\n"
     ]
    }
   ],
   "source": [
    "word_to_find = 'SnO2'\n",
    "# 检查 'Cu' 是否在词汇表中\n",
    "if word_to_find in model.key_to_index:\n",
    "    index_cu = model.key_to_index[word_to_find]  # 找到 'Cu' 这个词在词汇表中的索引\n",
    "    vector_cu = word_vectors_tsne[index_cu]  # 使用索引从降维后的二维向量列表 word_vectors_tsne 中获取对应的二维向量\n",
    "    print(f\"'{word_to_find}' 对应的二维向量:\", vector_cu)\n",
    "else:\n",
    "    print(f\"'{word_to_find}' 不在词汇表中。\")"
   ]
  },
  {
   "cell_type": "code",
   "execution_count": 76,
   "id": "634245bb-c14c-4393-9f1b-7d99b4f2de56",
   "metadata": {},
   "outputs": [
    {
     "name": "stdout",
     "output_type": "stream",
     "text": [
      "'TiO2' 对应的二维向量: [ 17.763096 -32.45578 ]\n"
     ]
    }
   ],
   "source": [
    "word_to_find = 'TiO2'\n",
    "# 检查 'Cu' 是否在词汇表中\n",
    "if word_to_find in model.key_to_index:\n",
    "    index_cu = model.key_to_index[word_to_find]  # 找到 'Cu' 这个词在词汇表中的索引\n",
    "    vector_cu = word_vectors_tsne[index_cu]  # 使用索引从降维后的二维向量列表 word_vectors_tsne 中获取对应的二维向量\n",
    "    print(f\"'{word_to_find}' 对应的二维向量:\", vector_cu)\n",
    "else:\n",
    "    print(f\"'{word_to_find}' 不在词汇表中。\")"
   ]
  },
  {
   "cell_type": "code",
   "execution_count": 77,
   "id": "ef7d016a-2240-4e92-99e1-52cf87493e01",
   "metadata": {},
   "outputs": [
    {
     "name": "stdout",
     "output_type": "stream",
     "text": [
      "'ZnO' 对应的二维向量: [34.53019  -9.850989]\n"
     ]
    }
   ],
   "source": [
    "word_to_find = 'ZnO'\n",
    "# 检查 'Cu' 是否在词汇表中\n",
    "if word_to_find in model.key_to_index:\n",
    "    index_cu = model.key_to_index[word_to_find]  # 找到 'Cu' 这个词在词汇表中的索引\n",
    "    vector_cu = word_vectors_tsne[index_cu]  # 使用索引从降维后的二维向量列表 word_vectors_tsne 中获取对应的二维向量\n",
    "    print(f\"'{word_to_find}' 对应的二维向量:\", vector_cu)\n",
    "else:\n",
    "    print(f\"'{word_to_find}' 不在词汇表中。\")"
   ]
  },
  {
   "cell_type": "code",
   "execution_count": 78,
   "id": "2c5dd511-c386-43ba-b239-b12d149158e3",
   "metadata": {},
   "outputs": [
    {
     "name": "stdout",
     "output_type": "stream",
     "text": [
      "'PCDTBT' 对应的二维向量: [  6.3533177 -32.148724 ]\n"
     ]
    }
   ],
   "source": [
    "word_to_find = 'PCDTBT'\n",
    "# 检查 'Cu' 是否在词汇表中\n",
    "if word_to_find in model.key_to_index:\n",
    "    index_cu = model.key_to_index[word_to_find]  # 找到 'Cu' 这个词在词汇表中的索引\n",
    "    vector_cu = word_vectors_tsne[index_cu]  # 使用索引从降维后的二维向量列表 word_vectors_tsne 中获取对应的二维向量\n",
    "    print(f\"'{word_to_find}' 对应的二维向量:\", vector_cu)\n",
    "else:\n",
    "    print(f\"'{word_to_find}' 不在词汇表中。\")"
   ]
  },
  {
   "cell_type": "code",
   "execution_count": 79,
   "id": "9010d423-cf3c-43fb-bfc9-61e3d8468f04",
   "metadata": {},
   "outputs": [
    {
     "name": "stdout",
     "output_type": "stream",
     "text": [
      "'Spiro-OMeTAD' 对应的二维向量: [43.38179    3.1731148]\n"
     ]
    }
   ],
   "source": [
    "word_to_find = 'Spiro-OMeTAD'\n",
    "# 检查 'Cu' 是否在词汇表中\n",
    "if word_to_find in model.key_to_index:\n",
    "    index_cu = model.key_to_index[word_to_find]  # 找到 'Cu' 这个词在词汇表中的索引\n",
    "    vector_cu = word_vectors_tsne[index_cu]  # 使用索引从降维后的二维向量列表 word_vectors_tsne 中获取对应的二维向量\n",
    "    print(f\"'{word_to_find}' 对应的二维向量:\", vector_cu)\n",
    "else:\n",
    "    print(f\"'{word_to_find}' 不在词汇表中。\")"
   ]
  },
  {
   "cell_type": "code",
   "execution_count": 80,
   "id": "afaf308f-337b-47b1-8484-8be1a7176a70",
   "metadata": {},
   "outputs": [
    {
     "name": "stdout",
     "output_type": "stream",
     "text": [
      "'PBDTTPPD' 不在词汇表中。\n"
     ]
    }
   ],
   "source": [
    "word_to_find = 'PBDTTPPD'\n",
    "# 检查 'Cu' 是否在词汇表中\n",
    "if word_to_find in model.key_to_index:\n",
    "    index_cu = model.key_to_index[word_to_find]  # 找到 'Cu' 这个词在词汇表中的索引\n",
    "    vector_cu = word_vectors_tsne[index_cu]  # 使用索引从降维后的二维向量列表 word_vectors_tsne 中获取对应的二维向量\n",
    "    print(f\"'{word_to_find}' 对应的二维向量:\", vector_cu)\n",
    "else:\n",
    "    print(f\"'{word_to_find}' 不在词汇表中。\")"
   ]
  },
  {
   "cell_type": "code",
   "execution_count": 81,
   "id": "9d1999d2-6066-40e6-9117-9c9f76e22569",
   "metadata": {},
   "outputs": [
    {
     "name": "stdout",
     "output_type": "stream",
     "text": [
      "'P3HT' 对应的二维向量: [43.313026   3.2416248]\n"
     ]
    }
   ],
   "source": [
    "word_to_find = 'P3HT'\n",
    "# 检查 'Cu' 是否在词汇表中\n",
    "if word_to_find in model.key_to_index:\n",
    "    index_cu = model.key_to_index[word_to_find]  # 找到 'Cu' 这个词在词汇表中的索引\n",
    "    vector_cu = word_vectors_tsne[index_cu]  # 使用索引从降维后的二维向量列表 word_vectors_tsne 中获取对应的二维向量\n",
    "    print(f\"'{word_to_find}' 对应的二维向量:\", vector_cu)\n",
    "else:\n",
    "    print(f\"'{word_to_find}' 不在词汇表中。\")"
   ]
  },
  {
   "cell_type": "code",
   "execution_count": 84,
   "id": "b63ef312-312d-4140-8d78-022fc9b33463",
   "metadata": {},
   "outputs": [
    {
     "name": "stdout",
     "output_type": "stream",
     "text": [
      "'WO3' 不在词汇表中。\n"
     ]
    }
   ],
   "source": [
    "word_to_find = 'WO3'\n",
    "# 检查 'Cu' 是否在词汇表中\n",
    "if word_to_find in model.key_to_index:\n",
    "    index_cu = model.key_to_index[word_to_find]  # 找到 'Cu' 这个词在词汇表中的索引\n",
    "    vector_cu = word_vectors_tsne[index_cu]  # 使用索引从降维后的二维向量列表 word_vectors_tsne 中获取对应的二维向量\n",
    "    print(f\"'{word_to_find}' 对应的二维向量:\", vector_cu)\n",
    "else:\n",
    "    print(f\"'{word_to_find}' 不在词汇表中。\")"
   ]
  },
  {
   "cell_type": "code",
   "execution_count": 85,
   "id": "1cb4da76-ee9c-4d5c-b4db-8addaaf71335",
   "metadata": {},
   "outputs": [
    {
     "name": "stdout",
     "output_type": "stream",
     "text": [
      "'CuS' 不在词汇表中。\n"
     ]
    }
   ],
   "source": [
    "word_to_find = 'CuS'\n",
    "# 检查 'Cu' 是否在词汇表中\n",
    "if word_to_find in model.key_to_index:\n",
    "    index_cu = model.key_to_index[word_to_find]  # 找到 'Cu' 这个词在词汇表中的索引\n",
    "    vector_cu = word_vectors_tsne[index_cu]  # 使用索引从降维后的二维向量列表 word_vectors_tsne 中获取对应的二维向量\n",
    "    print(f\"'{word_to_find}' 对应的二维向量:\", vector_cu)\n",
    "else:\n",
    "    print(f\"'{word_to_find}' 不在词汇表中。\")"
   ]
  },
  {
   "cell_type": "code",
   "execution_count": 89,
   "id": "a5350511-9203-4da4-9611-a7dc9e40a5c3",
   "metadata": {},
   "outputs": [
    {
     "name": "stdout",
     "output_type": "stream",
     "text": [
      "'Fe3O4' 不在词汇表中。\n"
     ]
    }
   ],
   "source": [
    "word_to_find = 'Fe3O4'\n",
    "# 检查 'Cu' 是否在词汇表中\n",
    "if word_to_find in model.key_to_index:\n",
    "    index_cu = model.key_to_index[word_to_find]  # 找到 'Cu' 这个词在词汇表中的索引\n",
    "    vector_cu = word_vectors_tsne[index_cu]  # 使用索引从降维后的二维向量列表 word_vectors_tsne 中获取对应的二维向量\n",
    "    print(f\"'{word_to_find}' 对应的二维向量:\", vector_cu)\n",
    "else:\n",
    "    print(f\"'{word_to_find}' 不在词汇表中。\")"
   ]
  },
  {
   "cell_type": "code",
   "execution_count": 92,
   "id": "5570d4b4-76e7-43d4-9f24-a30585a0de14",
   "metadata": {},
   "outputs": [
    {
     "name": "stdout",
     "output_type": "stream",
     "text": [
      "'PBDB-T' 不在词汇表中。\n"
     ]
    }
   ],
   "source": [
    "word_to_find = 'PBDB-T'\n",
    "# 检查 'Cu' 是否在词汇表中\n",
    "if word_to_find in model.key_to_index:\n",
    "    index_cu = model.key_to_index[word_to_find]  # 找到 'Cu' 这个词在词汇表中的索引\n",
    "    vector_cu = word_vectors_tsne[index_cu]  # 使用索引从降维后的二维向量列表 word_vectors_tsne 中获取对应的二维向量\n",
    "    print(f\"'{word_to_find}' 对应的二维向量:\", vector_cu)\n",
    "else:\n",
    "    print(f\"'{word_to_find}' 不在词汇表中。\")"
   ]
  },
  {
   "cell_type": "code",
   "execution_count": 93,
   "id": "48f404d8-c60f-422f-a58d-8436f345980a",
   "metadata": {},
   "outputs": [
    {
     "name": "stdout",
     "output_type": "stream",
     "text": [
      "'MAPbI3' 对应的二维向量: [ 27.064043 -13.907483]\n"
     ]
    }
   ],
   "source": [
    "word_to_find = 'MAPbI3'\n",
    "# 检查 'Cu' 是否在词汇表中\n",
    "if word_to_find in model.key_to_index:\n",
    "    index_cu = model.key_to_index[word_to_find]  # 找到 'Cu' 这个词在词汇表中的索引\n",
    "    vector_cu = word_vectors_tsne[index_cu]  # 使用索引从降维后的二维向量列表 word_vectors_tsne 中获取对应的二维向量\n",
    "    print(f\"'{word_to_find}' 对应的二维向量:\", vector_cu)\n",
    "else:\n",
    "    print(f\"'{word_to_find}' 不在词汇表中。\")"
   ]
  },
  {
   "cell_type": "code",
   "execution_count": 94,
   "id": "65b66523-2679-49d1-b548-418378840c44",
   "metadata": {},
   "outputs": [
    {
     "name": "stdout",
     "output_type": "stream",
     "text": [
      "'MAPbBr3' 对应的二维向量: [44.22285   -1.8146732]\n"
     ]
    }
   ],
   "source": [
    "word_to_find = 'MAPbBr3'\n",
    "# 检查 'Cu' 是否在词汇表中\n",
    "if word_to_find in model.key_to_index:\n",
    "    index_cu = model.key_to_index[word_to_find]  # 找到 'Cu' 这个词在词汇表中的索引\n",
    "    vector_cu = word_vectors_tsne[index_cu]  # 使用索引从降维后的二维向量列表 word_vectors_tsne 中获取对应的二维向量\n",
    "    print(f\"'{word_to_find}' 对应的二维向量:\", vector_cu)\n",
    "else:\n",
    "    print(f\"'{word_to_find}' 不在词汇表中。\")"
   ]
  },
  {
   "cell_type": "code",
   "execution_count": 95,
   "id": "cff6e92c-5339-416f-8c1b-24ce1961a856",
   "metadata": {},
   "outputs": [
    {
     "name": "stdout",
     "output_type": "stream",
     "text": [
      "'FAPbI3' 对应的二维向量: [44.09742   -1.7355573]\n"
     ]
    }
   ],
   "source": [
    "word_to_find = 'FAPbI3'\n",
    "# 检查 'Cu' 是否在词汇表中\n",
    "if word_to_find in model.key_to_index:\n",
    "    index_cu = model.key_to_index[word_to_find]  # 找到 'Cu' 这个词在词汇表中的索引\n",
    "    vector_cu = word_vectors_tsne[index_cu]  # 使用索引从降维后的二维向量列表 word_vectors_tsne 中获取对应的二维向量\n",
    "    print(f\"'{word_to_find}' 对应的二维向量:\", vector_cu)\n",
    "else:\n",
    "    print(f\"'{word_to_find}' 不在词汇表中。\")"
   ]
  },
  {
   "cell_type": "code",
   "execution_count": 96,
   "id": "c97ca84a-929c-4ff9-b085-4c7b5750fabe",
   "metadata": {},
   "outputs": [
    {
     "name": "stdout",
     "output_type": "stream",
     "text": [
      "'CsPbBr3' 对应的二维向量: [ -7.2562656 -61.524513 ]\n"
     ]
    }
   ],
   "source": [
    "word_to_find = 'CsPbBr3'\n",
    "# 检查 'Cu' 是否在词汇表中\n",
    "if word_to_find in model.key_to_index:\n",
    "    index_cu = model.key_to_index[word_to_find]  # 找到 'Cu' 这个词在词汇表中的索引\n",
    "    vector_cu = word_vectors_tsne[index_cu]  # 使用索引从降维后的二维向量列表 word_vectors_tsne 中获取对应的二维向量\n",
    "    print(f\"'{word_to_find}' 对应的二维向量:\", vector_cu)\n",
    "else:\n",
    "    print(f\"'{word_to_find}' 不在词汇表中。\")"
   ]
  }
 ],
 "metadata": {
  "kernelspec": {
   "display_name": "Python 3 (ipykernel)",
   "language": "python",
   "name": "python3"
  },
  "language_info": {
   "codemirror_mode": {
    "name": "ipython",
    "version": 3
   },
   "file_extension": ".py",
   "mimetype": "text/x-python",
   "name": "python",
   "nbconvert_exporter": "python",
   "pygments_lexer": "ipython3",
   "version": "3.10.13"
  }
 },
 "nbformat": 4,
 "nbformat_minor": 5
}
